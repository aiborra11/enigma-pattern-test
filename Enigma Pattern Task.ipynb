{
 "cells": [
  {
   "cell_type": "markdown",
   "metadata": {},
   "source": [
    "**Importing Libraries**"
   ]
  },
  {
   "cell_type": "code",
   "execution_count": 1,
   "metadata": {},
   "outputs": [],
   "source": [
    "#Importing basic libraries\n",
    "import pandas as pd\n",
    "import numpy as np\n",
    "import datetime"
   ]
  },
  {
   "cell_type": "code",
   "execution_count": 22,
   "metadata": {},
   "outputs": [],
   "source": [
    "#Importing libraries for the API task\n",
    "import re\n",
    "import requests as req\n",
    "import json\n",
    "from dotenv import load_dotenv\n",
    "load_dotenv()\n",
    "import os\n",
    "import io\n",
    "\n",
    "#Importing sqlite library\n",
    "import sqlite3"
   ]
  },
  {
   "cell_type": "code",
   "execution_count": 3,
   "metadata": {},
   "outputs": [],
   "source": [
    "#Importing libraries to avoid warnings\n",
    "import warnings\n",
    "import itertools\n",
    "warnings.filterwarnings(\"ignore\")"
   ]
  },
  {
   "cell_type": "code",
   "execution_count": 4,
   "metadata": {},
   "outputs": [],
   "source": [
    "#Importing API flikr\n",
    "import flickrapi"
   ]
  },
  {
   "cell_type": "markdown",
   "metadata": {},
   "source": [
    "**1. Open CSV file.**"
   ]
  },
  {
   "cell_type": "code",
   "execution_count": 5,
   "metadata": {},
   "outputs": [],
   "source": [
    "#Reading file test\n",
    "data = pd.read_csv('./data/test.csv')"
   ]
  },
  {
   "cell_type": "code",
   "execution_count": 6,
   "metadata": {},
   "outputs": [
    {
     "data": {
      "text/html": [
       "<div>\n",
       "<style scoped>\n",
       "    .dataframe tbody tr th:only-of-type {\n",
       "        vertical-align: middle;\n",
       "    }\n",
       "\n",
       "    .dataframe tbody tr th {\n",
       "        vertical-align: top;\n",
       "    }\n",
       "\n",
       "    .dataframe thead th {\n",
       "        text-align: right;\n",
       "    }\n",
       "</style>\n",
       "<table border=\"1\" class=\"dataframe\">\n",
       "  <thead>\n",
       "    <tr style=\"text-align: right;\">\n",
       "      <th></th>\n",
       "      <th>imie</th>\n",
       "      <th>nazwisko</th>\n",
       "      <th>data_urodzenia</th>\n",
       "    </tr>\n",
       "  </thead>\n",
       "  <tbody>\n",
       "    <tr>\n",
       "      <th>0</th>\n",
       "      <td>Jadwiga</td>\n",
       "      <td>Bilecka</td>\n",
       "      <td>01.01.1978</td>\n",
       "    </tr>\n",
       "    <tr>\n",
       "      <th>1</th>\n",
       "      <td>Rafal</td>\n",
       "      <td>Bobek</td>\n",
       "      <td>11.04.1978</td>\n",
       "    </tr>\n",
       "    <tr>\n",
       "      <th>2</th>\n",
       "      <td>Robert</td>\n",
       "      <td>Bobekowski</td>\n",
       "      <td>20.07.1978</td>\n",
       "    </tr>\n",
       "    <tr>\n",
       "      <th>3</th>\n",
       "      <td>Rafal</td>\n",
       "      <td>Bobikowski</td>\n",
       "      <td>28.10.1978</td>\n",
       "    </tr>\n",
       "    <tr>\n",
       "      <th>4</th>\n",
       "      <td>Rafal</td>\n",
       "      <td>Brobek</td>\n",
       "      <td>5.02.1979</td>\n",
       "    </tr>\n",
       "  </tbody>\n",
       "</table>\n",
       "</div>"
      ],
      "text/plain": [
       "      imie    nazwisko data_urodzenia\n",
       "0  Jadwiga     Bilecka     01.01.1978\n",
       "1    Rafal       Bobek     11.04.1978\n",
       "2   Robert  Bobekowski     20.07.1978\n",
       "3    Rafal  Bobikowski     28.10.1978\n",
       "4    Rafal      Brobek      5.02.1979"
      ]
     },
     "metadata": {},
     "output_type": "display_data"
    },
    {
     "name": "stdout",
     "output_type": "stream",
     "text": [
      "imie              object\n",
      "nazwisko          object\n",
      "data_urodzenia    object\n",
      "dtype: object\n",
      "(108, 3)\n"
     ]
    }
   ],
   "source": [
    "#Exploring data\n",
    "display(data.head())\n",
    "print(data.dtypes)\n",
    "print(data.shape)"
   ]
  },
  {
   "cell_type": "markdown",
   "metadata": {},
   "source": [
    "**2. Print number of people that born after 1999-12-31**"
   ]
  },
  {
   "cell_type": "code",
   "execution_count": 7,
   "metadata": {},
   "outputs": [],
   "source": [
    "#Converting data into date format and converting into int.\n",
    "data['data_urodzenia'] = pd.to_datetime(data['data_urodzenia'])\n",
    "data['data_urodzenia'] = data['data_urodzenia'].dt.strftime(\"%Y%m%d\").astype(int)"
   ]
  },
  {
   "cell_type": "code",
   "execution_count": 8,
   "metadata": {},
   "outputs": [],
   "source": [
    "#Selecting people born after 1999-12-31\n",
    "people_1999 = data[data.data_urodzenia > 19991231]"
   ]
  },
  {
   "cell_type": "code",
   "execution_count": 9,
   "metadata": {},
   "outputs": [
    {
     "data": {
      "text/plain": [
       "imie                Andrzej\n",
       "nazwisko          Polkowiak\n",
       "data_urodzenia     20000603\n",
       "dtype: object"
      ]
     },
     "execution_count": 9,
     "metadata": {},
     "output_type": "execute_result"
    }
   ],
   "source": [
    "#Making sure it worked\n",
    "people_1999.min()"
   ]
  },
  {
   "cell_type": "code",
   "execution_count": 10,
   "metadata": {},
   "outputs": [
    {
     "name": "stdout",
     "output_type": "stream",
     "text": [
      "The number of people who were born after 1999-12-31 is 27\n"
     ]
    }
   ],
   "source": [
    "print(f'The number of people who were born after 1999-12-31 is {len(people_1999)}')"
   ]
  },
  {
   "cell_type": "markdown",
   "metadata": {},
   "source": [
    "**3. Print all names that end with \"a\". Names cannot be repeated.**"
   ]
  },
  {
   "cell_type": "code",
   "execution_count": 11,
   "metadata": {},
   "outputs": [],
   "source": [
    "a_names = [x for x in data.imie if x[-1]=='a']"
   ]
  },
  {
   "cell_type": "code",
   "execution_count": 12,
   "metadata": {},
   "outputs": [],
   "source": [
    "a_names_nonrepeat = []\n",
    "for name in a_names:\n",
    "    if name not in a_names_nonrepeat:\n",
    "        a_names_nonrepeat.append(name)"
   ]
  },
  {
   "cell_type": "code",
   "execution_count": 13,
   "metadata": {},
   "outputs": [
    {
     "name": "stdout",
     "output_type": "stream",
     "text": [
      "The names ending in \"a\" are: ['Jadwiga', 'Liliana', 'Katarzyna', 'Barbara', 'Kalina', 'Jolanta', 'Pelagia', 'Ewa', 'Krystyna', 'Elwira']\n"
     ]
    }
   ],
   "source": [
    "print(f'The names ending in \"a\" are: {a_names_nonrepeat}')"
   ]
  },
  {
   "cell_type": "markdown",
   "metadata": {},
   "source": [
    "**4. Write FLICKR client**"
   ]
  },
  {
   "cell_type": "code",
   "execution_count": 14,
   "metadata": {},
   "outputs": [],
   "source": [
    "#Installed in conda environment flickrapi. Requested API KEY. Created .gitignore and .env/\n",
    "import flickrapi\n",
    "import urllib\n",
    "from PIL import Image\n",
    "import wget\n"
   ]
  },
  {
   "cell_type": "code",
   "execution_count": 35,
   "metadata": {},
   "outputs": [],
   "source": [
    "#This function makes sure we have the key provided for the API. Then it executes with the keyword and the number of images we want. If there is no input for the number of images, it automatically downloads 100 images.\n",
    "\n",
    "if not 'KEY' in os.environ:\n",
    "    raise ValueError('This function requires a Flickr KEY in orer to work.')\n",
    "\n",
    "API_KEY = os.environ[\"KEY\"]\n",
    "API_SECRET = os.environ[\"KEY_SECRET\"]\n",
    "flickr=flickrapi.FlickrAPI(API_KEY, API_SECRET, cache=True)\n",
    "\n",
    "def get_images(keywords, number_pages=100):\n",
    "    obj = flickr.walk(text=keywords,\n",
    "                           tags=keywords,\n",
    "                           extras='url_c')    \n",
    "    urls = []    \n",
    "    for photo in obj:\n",
    "        try:\n",
    "            url=photo.get('url_c')\n",
    "            urls.append(url)\n",
    "            if len(urls) > number_pages-1:\n",
    "                break\n",
    "        except ValueError:\n",
    "            continue\n",
    "    for i, e in enumerate(urls):      \n",
    "        images = wget.download(e)\n",
    "        \n",
    "    return images"
   ]
  },
  {
   "cell_type": "code",
   "execution_count": 36,
   "metadata": {},
   "outputs": [],
   "source": [
    "images = get_images('pokemon', 4)"
   ]
  },
  {
   "cell_type": "markdown",
   "metadata": {},
   "source": [
    "**Put data in sqlite**"
   ]
  },
  {
   "cell_type": "code",
   "execution_count": 32,
   "metadata": {},
   "outputs": [],
   "source": [
    "#Connecting to sqlite\n",
    "conn = sqlite3.connect(\"SQLite_Python.db\")\n"
   ]
  },
  {
   "cell_type": "code",
   "execution_count": 37,
   "metadata": {},
   "outputs": [
    {
     "ename": "AttributeError",
     "evalue": "'str' object has no attribute 'to_sql'",
     "output_type": "error",
     "traceback": [
      "\u001b[0;31m---------------------------------------------------------------------------\u001b[0m",
      "\u001b[0;31mAttributeError\u001b[0m                            Traceback (most recent call last)",
      "\u001b[0;32m<ipython-input-37-644fd9b2790e>\u001b[0m in \u001b[0;36m<module>\u001b[0;34m\u001b[0m\n\u001b[1;32m      1\u001b[0m \u001b[0;32mfor\u001b[0m \u001b[0mi\u001b[0m \u001b[0;32min\u001b[0m \u001b[0mrange\u001b[0m\u001b[0;34m(\u001b[0m\u001b[0;36m100\u001b[0m\u001b[0;34m)\u001b[0m\u001b[0;34m:\u001b[0m\u001b[0;34m\u001b[0m\u001b[0;34m\u001b[0m\u001b[0m\n\u001b[0;32m----> 2\u001b[0;31m     \u001b[0mimages\u001b[0m\u001b[0;34m.\u001b[0m\u001b[0mto_sql\u001b[0m\u001b[0;34m(\u001b[0m\u001b[0;34mf\"image\"\u001b[0m\u001b[0;34m,\u001b[0m \u001b[0mconn\u001b[0m\u001b[0;34m,\u001b[0m \u001b[0mif_exists\u001b[0m\u001b[0;34m=\u001b[0m\u001b[0;34m\"replace\"\u001b[0m\u001b[0;34m)\u001b[0m\u001b[0;34m\u001b[0m\u001b[0;34m\u001b[0m\u001b[0m\n\u001b[0m\u001b[1;32m      3\u001b[0m     \u001b[0mconn\u001b[0m\u001b[0;34m.\u001b[0m\u001b[0mclose\u001b[0m\u001b[0;34m(\u001b[0m\u001b[0;34m)\u001b[0m\u001b[0;34m\u001b[0m\u001b[0;34m\u001b[0m\u001b[0m\n",
      "\u001b[0;31mAttributeError\u001b[0m: 'str' object has no attribute 'to_sql'"
     ]
    }
   ],
   "source": [
    "#WIP. Not finished\n",
    "\n",
    "for i in range(100):\n",
    "    images.to_sql(f\"image{i}\", conn, if_exists=\"replace\")\n",
    "    conn.close()"
   ]
  }
 ],
 "metadata": {
  "kernelspec": {
   "display_name": "Python 3",
   "language": "python",
   "name": "python3"
  },
  "language_info": {
   "codemirror_mode": {
    "name": "ipython",
    "version": 3
   },
   "file_extension": ".py",
   "mimetype": "text/x-python",
   "name": "python",
   "nbconvert_exporter": "python",
   "pygments_lexer": "ipython3",
   "version": "3.7.2"
  }
 },
 "nbformat": 4,
 "nbformat_minor": 2
}
